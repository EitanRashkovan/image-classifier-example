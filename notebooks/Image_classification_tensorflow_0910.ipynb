{
 "cells": [
  {
   "cell_type": "code",
   "execution_count": 25,
   "source": [
    "# import required modules, packages\r\n",
    "import tensorflow as tf\r\n",
    "from tensorflow import keras\r\n",
    "from keras.models import Sequential\r\n",
    "from tensorflow.keras.optimizers import Adam, SGD\r\n",
    "from keras.callbacks import ModelCheckpoint\r\n",
    "from keras.constraints import maxnorm\r\n",
    "from keras.models import load_model\r\n",
    "from keras.layers import GlobalAveragePooling2D, Lambda, Conv2D, MaxPooling2D, Dropout, Dense, Flatten, Activation\r\n",
    "from keras.preprocessing.image import ImageDataGenerator\r\n",
    "import numpy as np\r\n",
    "import os\r\n",
    "from pathlib import Path\r\n",
    "import matplotlib.pyplot as plt\r\n",
    "from sklearn.svm import SVC\r\n",
    "%matplotlib inline\r\n",
    "\r\n",
    "# import datasets, classifiers, performance metrics\r\n",
    "from sklearn import svm, metrics\r\n",
    "from sklearn.model_selection import train_test_split\r\n",
    "\r\n",
    "print(tf.__version__)"
   ],
   "outputs": [
    {
     "output_type": "stream",
     "name": "stdout",
     "text": [
      "2.6.0\n"
     ]
    }
   ],
   "metadata": {}
  },
  {
   "cell_type": "code",
   "execution_count": 26,
   "source": [
    "# accessing the dataset\r\n",
    "from PIL import Image, ImageFile, ImageOps\r\n",
    "ImageFile.LOAD_TRUNCATED_IMAGES = True\r\n",
    "\r\n",
    "p = Path(\"sample_Signature/\")\r\n",
    "dirs = p.glob(\"*\")\r\n",
    "labels_dict = {'forge':0, 'genuin':1}\r\n",
    "\r\n",
    "image_data = []\r\n",
    "labels = []\r\n",
    "\r\n",
    "for folder_dir in dirs:\r\n",
    "    label = str(folder_dir).split(\"\\\\\")[-1][:-1]\r\n",
    "\r\n",
    "    for img_path in folder_dir.glob(\"*.png\"):\r\n",
    "        # reading/opens each image\r\n",
    "        img = Image.open(img_path)\r\n",
    "        if 'L' in img.getbands():  # image is black-and-white, colorize it\r\n",
    "            img = ImageOps.colorize(img, black=\"blue\", white=\"white\")\r\n",
    "        # resizing each image\r\n",
    "        img_new = img.resize((200,200))\r\n",
    "        # convert each image to array using numpy\r\n",
    "        img_array = np.asarray(img_new)\r\n",
    "        # append each image array to image_data list\r\n",
    "        image_data.append(img_array)\r\n",
    "        # match the label to corresponding image\r\n",
    "        labels.append(labels_dict[label])\r\n",
    "\r\n",
    "        # image color inversion\r\n",
    "        from skimage import util\r\n",
    "        import numpy as np\r\n",
    "        color_inversion_img = util.invert(img_array)\r\n",
    "        # alternate method with numpy\r\n",
    "        #color_inversion_img_w_np = np.invert(img)\r\n",
    "        img_invert_array = np.asarray(color_inversion_img)\r\n",
    "        # append each image array to image_data list\r\n",
    "        image_data.append(img_invert_array)\r\n",
    "        # match the label to corresponding image\r\n",
    "        labels.append(labels_dict[label])"
   ],
   "outputs": [],
   "metadata": {}
  },
  {
   "cell_type": "code",
   "execution_count": 27,
   "source": [
    "image_data = np.array(image_data, dtype = 'float32')/255.0\r\n",
    "labels = np.array(labels)\r\n",
    "\r\n",
    "print(image_data.shape, labels.shape)"
   ],
   "outputs": [
    {
     "output_type": "stream",
     "name": "stdout",
     "text": [
      "(600, 200, 200, 3) (600,)\n"
     ]
    }
   ],
   "metadata": {}
  },
  {
   "cell_type": "code",
   "execution_count": 28,
   "source": [
    "import random \r\n",
    "combined = list(zip(image_data, labels))\r\n",
    "random.shuffle(combined)\r\n",
    "\r\n",
    "image_data[:], labels[:] = zip(*combined)"
   ],
   "outputs": [],
   "metadata": {}
  },
  {
   "cell_type": "code",
   "execution_count": 29,
   "source": [
    "model = tf.keras.Sequential([\r\n",
    "    tf.keras.layers.Flatten(input_shape=(200,200,3)),\r\n",
    "    tf.keras.layers.Dense(128, activation='relu'),\r\n",
    "    tf.keras.layers.Dense(2)\r\n",
    "])"
   ],
   "outputs": [],
   "metadata": {}
  },
  {
   "cell_type": "code",
   "execution_count": 51,
   "source": [
    "image_train, image_test, label_train, label_test = train_test_split(\r\n",
    "    image_data, labels, test_size =0.8, shuffle = False)"
   ],
   "outputs": [],
   "metadata": {}
  },
  {
   "cell_type": "code",
   "execution_count": 52,
   "source": [
    "model.compile(optimizer='adam',\r\n",
    "              loss=tf.keras.losses.SparseCategoricalCrossentropy(from_logits=True),\r\n",
    "              metrics=['accuracy'])"
   ],
   "outputs": [],
   "metadata": {}
  },
  {
   "cell_type": "code",
   "execution_count": 53,
   "source": [
    "model.fit(image_train, label_train, epochs=15)"
   ],
   "outputs": [
    {
     "output_type": "stream",
     "name": "stdout",
     "text": [
      "Epoch 1/15\n",
      "4/4 [==============================] - 0s 43ms/step - loss: 3.6127 - accuracy: 0.7250\n",
      "Epoch 2/15\n",
      "4/4 [==============================] - 0s 42ms/step - loss: 2.9143 - accuracy: 0.6500\n",
      "Epoch 3/15\n",
      "4/4 [==============================] - 0s 44ms/step - loss: 1.8188 - accuracy: 0.6750\n",
      "Epoch 4/15\n",
      "4/4 [==============================] - 0s 43ms/step - loss: 0.6974 - accuracy: 0.7333\n",
      "Epoch 5/15\n",
      "4/4 [==============================] - 0s 43ms/step - loss: 1.2273 - accuracy: 0.6417\n",
      "Epoch 6/15\n",
      "4/4 [==============================] - 0s 43ms/step - loss: 0.7374 - accuracy: 0.7833\n",
      "Epoch 7/15\n",
      "4/4 [==============================] - 0s 45ms/step - loss: 0.4943 - accuracy: 0.7417\n",
      "Epoch 8/15\n",
      "4/4 [==============================] - 0s 43ms/step - loss: 0.4253 - accuracy: 0.8500\n",
      "Epoch 9/15\n",
      "4/4 [==============================] - 0s 42ms/step - loss: 0.5349 - accuracy: 0.7250\n",
      "Epoch 10/15\n",
      "4/4 [==============================] - 0s 43ms/step - loss: 0.7152 - accuracy: 0.7333\n",
      "Epoch 11/15\n",
      "4/4 [==============================] - 0s 43ms/step - loss: 0.7703 - accuracy: 0.7583\n",
      "Epoch 12/15\n",
      "4/4 [==============================] - 0s 42ms/step - loss: 0.7845 - accuracy: 0.7667\n",
      "Epoch 13/15\n",
      "4/4 [==============================] - 0s 43ms/step - loss: 0.5554 - accuracy: 0.7667\n",
      "Epoch 14/15\n",
      "4/4 [==============================] - 0s 44ms/step - loss: 0.6027 - accuracy: 0.7667\n",
      "Epoch 15/15\n",
      "4/4 [==============================] - 0s 45ms/step - loss: 0.9604 - accuracy: 0.7250\n"
     ]
    },
    {
     "output_type": "execute_result",
     "data": {
      "text/plain": [
       "<keras.callbacks.History at 0x1c1c3313730>"
      ]
     },
     "metadata": {},
     "execution_count": 53
    }
   ],
   "metadata": {}
  },
  {
   "cell_type": "code",
   "execution_count": 54,
   "source": [
    "test_loss, test_acc = model.evaluate(image_test, label_test, verbose=10)\r\n",
    "\r\n",
    "print('\\nTest accuracy:', test_acc)"
   ],
   "outputs": [
    {
     "output_type": "stream",
     "name": "stdout",
     "text": [
      "\n",
      "Test accuracy: 0.5562499761581421\n"
     ]
    }
   ],
   "metadata": {}
  },
  {
   "cell_type": "code",
   "execution_count": 55,
   "source": [
    "# check if a model has already been saved and if it hasn't, save it to the disk\r\n",
    "# this is basically the serialization\r\n",
    "'''import os.path\r\n",
    "if os.path.isfile('models/Real_Forged_signatures.h5') is False:\r\n",
    "    model.save('models/Real_Forged_signatures.h5')\r\n",
    "    '''\r\n",
    "json_string = model.to_json()"
   ],
   "outputs": [],
   "metadata": {}
  },
  {
   "cell_type": "code",
   "execution_count": 56,
   "source": [
    "import json\r\n",
    "\r\n",
    "# writing to json file\r\n",
    "with open(\"2021-09-10-keras.json\", \"w\") as my_file:\r\n",
    "    json_object = json.dump(json_string, my_file)\r\n",
    "\r\n",
    "# previewing content\r\n",
    "json_str = json.dumps(json_string)\r\n",
    "print(json_str)"
   ],
   "outputs": [
    {
     "output_type": "stream",
     "name": "stdout",
     "text": [
      "\"{\\\"class_name\\\": \\\"Sequential\\\", \\\"config\\\": {\\\"name\\\": \\\"sequential_3\\\", \\\"layers\\\": [{\\\"class_name\\\": \\\"InputLayer\\\", \\\"config\\\": {\\\"batch_input_shape\\\": [null, 200, 200, 3], \\\"dtype\\\": \\\"float32\\\", \\\"sparse\\\": false, \\\"ragged\\\": false, \\\"name\\\": \\\"flatten_3_input\\\"}}, {\\\"class_name\\\": \\\"Flatten\\\", \\\"config\\\": {\\\"name\\\": \\\"flatten_3\\\", \\\"trainable\\\": true, \\\"batch_input_shape\\\": [null, 200, 200, 3], \\\"dtype\\\": \\\"float32\\\", \\\"data_format\\\": \\\"channels_last\\\"}}, {\\\"class_name\\\": \\\"Dense\\\", \\\"config\\\": {\\\"name\\\": \\\"dense_6\\\", \\\"trainable\\\": true, \\\"dtype\\\": \\\"float32\\\", \\\"units\\\": 128, \\\"activation\\\": \\\"relu\\\", \\\"use_bias\\\": true, \\\"kernel_initializer\\\": {\\\"class_name\\\": \\\"GlorotUniform\\\", \\\"config\\\": {\\\"seed\\\": null}}, \\\"bias_initializer\\\": {\\\"class_name\\\": \\\"Zeros\\\", \\\"config\\\": {}}, \\\"kernel_regularizer\\\": null, \\\"bias_regularizer\\\": null, \\\"activity_regularizer\\\": null, \\\"kernel_constraint\\\": null, \\\"bias_constraint\\\": null}}, {\\\"class_name\\\": \\\"Dense\\\", \\\"config\\\": {\\\"name\\\": \\\"dense_7\\\", \\\"trainable\\\": true, \\\"dtype\\\": \\\"float32\\\", \\\"units\\\": 2, \\\"activation\\\": \\\"linear\\\", \\\"use_bias\\\": true, \\\"kernel_initializer\\\": {\\\"class_name\\\": \\\"GlorotUniform\\\", \\\"config\\\": {\\\"seed\\\": null}}, \\\"bias_initializer\\\": {\\\"class_name\\\": \\\"Zeros\\\", \\\"config\\\": {}}, \\\"kernel_regularizer\\\": null, \\\"bias_regularizer\\\": null, \\\"activity_regularizer\\\": null, \\\"kernel_constraint\\\": null, \\\"bias_constraint\\\": null}}]}, \\\"keras_version\\\": \\\"2.6.0\\\", \\\"backend\\\": \\\"tensorflow\\\"}\"\n"
     ]
    }
   ],
   "metadata": {}
  },
  {
   "cell_type": "code",
   "execution_count": 57,
   "source": [
    "with open(\"2021-09-10-keras.json\", \"r\") as my_file_read:\r\n",
    "    my_list = json.load(my_file_read)\r\n",
    "\r\n",
    "print(my_list)"
   ],
   "outputs": [
    {
     "output_type": "stream",
     "name": "stdout",
     "text": [
      "{\"class_name\": \"Sequential\", \"config\": {\"name\": \"sequential_3\", \"layers\": [{\"class_name\": \"InputLayer\", \"config\": {\"batch_input_shape\": [null, 200, 200, 3], \"dtype\": \"float32\", \"sparse\": false, \"ragged\": false, \"name\": \"flatten_3_input\"}}, {\"class_name\": \"Flatten\", \"config\": {\"name\": \"flatten_3\", \"trainable\": true, \"batch_input_shape\": [null, 200, 200, 3], \"dtype\": \"float32\", \"data_format\": \"channels_last\"}}, {\"class_name\": \"Dense\", \"config\": {\"name\": \"dense_6\", \"trainable\": true, \"dtype\": \"float32\", \"units\": 128, \"activation\": \"relu\", \"use_bias\": true, \"kernel_initializer\": {\"class_name\": \"GlorotUniform\", \"config\": {\"seed\": null}}, \"bias_initializer\": {\"class_name\": \"Zeros\", \"config\": {}}, \"kernel_regularizer\": null, \"bias_regularizer\": null, \"activity_regularizer\": null, \"kernel_constraint\": null, \"bias_constraint\": null}}, {\"class_name\": \"Dense\", \"config\": {\"name\": \"dense_7\", \"trainable\": true, \"dtype\": \"float32\", \"units\": 2, \"activation\": \"linear\", \"use_bias\": true, \"kernel_initializer\": {\"class_name\": \"GlorotUniform\", \"config\": {\"seed\": null}}, \"bias_initializer\": {\"class_name\": \"Zeros\", \"config\": {}}, \"kernel_regularizer\": null, \"bias_regularizer\": null, \"activity_regularizer\": null, \"kernel_constraint\": null, \"bias_constraint\": null}}]}, \"keras_version\": \"2.6.0\", \"backend\": \"tensorflow\"}\n"
     ]
    }
   ],
   "metadata": {}
  },
  {
   "cell_type": "code",
   "execution_count": null,
   "source": [],
   "outputs": [],
   "metadata": {}
  }
 ],
 "metadata": {
  "orig_nbformat": 4,
  "language_info": {
   "name": "python",
   "version": "3.9.6",
   "mimetype": "text/x-python",
   "codemirror_mode": {
    "name": "ipython",
    "version": 3
   },
   "pygments_lexer": "ipython3",
   "nbconvert_exporter": "python",
   "file_extension": ".py"
  },
  "kernelspec": {
   "name": "python3",
   "display_name": "Python 3.9.6 64-bit"
  },
  "interpreter": {
   "hash": "08724123d78f1d06ca5fbd1377f1dc306a44f2f8693118ef1cd3ca48cab9c7d6"
  }
 },
 "nbformat": 4,
 "nbformat_minor": 2
}